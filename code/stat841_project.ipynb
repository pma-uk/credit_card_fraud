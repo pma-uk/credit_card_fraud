{
  "nbformat": 4,
  "nbformat_minor": 0,
  "metadata": {
    "colab": {
      "provenance": []
    },
    "kernelspec": {
      "name": "python3",
      "display_name": "Python 3"
    },
    "language_info": {
      "name": "python"
    },
    "gpuClass": "standard",
    "accelerator": "GPU"
  },
  "cells": [
    {
      "cell_type": "markdown",
      "source": [
        "## Changelog\n",
        "\n",
        "2023-04-19, 11:33\n",
        "\n",
        "*   Added Google Napoleon style documentation of functions.\n",
        "*   Added and modified section headers and inline comments.\n",
        "\n",
        "2023-04-17, 12:07\n",
        "\n",
        "*   Extended range of values for tuning `C` parameter for LogisticRegression.\n",
        "*   Fixed bug where saved confusion matrix figures would be empty.\n",
        "\n",
        "2023-04-16, 16:28\n",
        "\n",
        "*   Fixed bug with data leaking between training and test set due to not setting seed for numpy prior to undersampling in data preprocessing.\n",
        "\n",
        "2023-04-15, 19:43\n",
        "\n",
        "*   Added Gathering Results section.\n",
        "*   Modified `test_models()` to handle single model input differently\n",
        "*   Added `prepare_results()` to Gathering Results section for collecting all testing results, saving them to .csv and saving plots (only confusion matrices, currently).\n",
        "\n",
        "2023-04-15, 15:02\n",
        "\n",
        "*   Modified `train_models()` to integrate XGBoost.\n",
        "*   Added model and model parameters for XGBoost.\n",
        "*   Modified tuning parameter values for Random Forest and SVM.\n",
        "*   Modified tuning parameter values for Logistic Regression to include both Ridge (L2) and LASSO (L1) penalties - with 'liblinear' solver as it is the only solver that works with both L1 and L2 penalties.\n",
        "*   Added short set of instructions for notebook use under Setup section.\n",
        "\n",
        "2023-04-12, 18:00\n",
        "\n",
        "*   Added model saving and loading functionality (including model training results and metrics).\n",
        "*   Removed non-SMOTE subsampling strategies from train_models().\n",
        "\n"
      ],
      "metadata": {
        "id": "KseKUMsySZi5"
      }
    },
    {
      "cell_type": "markdown",
      "source": [
        "## Google Colab Setup (COMMENT OUT IF NOT NEEDED)"
      ],
      "metadata": {
        "id": "S2OJ391axVLC"
      }
    },
    {
      "cell_type": "code",
      "execution_count": null,
      "metadata": {
        "id": "iS-IjEw-xTNM",
        "colab": {
          "base_uri": "https://localhost:8080/"
        },
        "outputId": "612fbd42-47c3-49c5-b954-66b06cff227e"
      },
      "outputs": [
        {
          "output_type": "stream",
          "name": "stdout",
          "text": [
            "mkdir: cannot create directory ‘results’: File exists\n"
          ]
        }
      ],
      "source": [
        "!cp -r drive/MyDrive/STAT841/Data/baf_data/ .\n",
        "!cp -r drive/MyDrive/STAT841/Code/saved/ .\n",
        "!mkdir results"
      ]
    },
    {
      "cell_type": "code",
      "source": [
        "#!cp -r saved/ drive/MyDrive/STAT841/Code/"
      ],
      "metadata": {
        "id": "IXegUy6EskHN"
      },
      "execution_count": null,
      "outputs": []
    },
    {
      "cell_type": "markdown",
      "source": [
        "# STAT 841: Final Project"
      ],
      "metadata": {
        "id": "YW9oiRUAzIxp"
      }
    },
    {
      "cell_type": "markdown",
      "source": [
        "## Setup\n",
        "\n",
        "### Instructions\n",
        "\n",
        "*   Make sure to set `loading_models` to correctly set to True or False, as desired.\n",
        "*   If training models (not loading), make sure that relevant models and model parameters are included (uncommented) in the relevant code block under Training Pipeline section.\n",
        "*   If training models, verify that correct CV scorer is selected, and that the `file_prefix` string and the `strategy` parameter for `train_models()` are appropriately set.\n",
        "\n"
      ],
      "metadata": {
        "id": "rmcrlLLIx0yz"
      }
    },
    {
      "cell_type": "code",
      "source": [
        "import matplotlib.pyplot as plt\n",
        "import numpy as np\n",
        "import pandas as pd\n",
        "import seaborn as sns"
      ],
      "metadata": {
        "id": "KhEGSwU9x-oN"
      },
      "execution_count": null,
      "outputs": []
    },
    {
      "cell_type": "code",
      "source": [
        "## Set whether or not to load models or train from scratch\n",
        "loading_models = True"
      ],
      "metadata": {
        "id": "s2vcrUGmWcUB"
      },
      "execution_count": null,
      "outputs": []
    },
    {
      "cell_type": "markdown",
      "source": [
        "## Load and view data"
      ],
      "metadata": {
        "id": "UL47G1DizVLF"
      }
    },
    {
      "cell_type": "code",
      "source": [
        "data = pd.read_csv('baf_data/Base.csv')\n",
        "n = len(data)\n",
        "print(f'Number of entries: {n}.')\n",
        "data.head()"
      ],
      "metadata": {
        "colab": {
          "base_uri": "https://localhost:8080/",
          "height": 317
        },
        "id": "BYlRQaXlzV_d",
        "outputId": "fd04a56e-8c60-40ec-cda8-3c2003b793ba"
      },
      "execution_count": null,
      "outputs": [
        {
          "output_type": "stream",
          "name": "stdout",
          "text": [
            "Number of entries: 1000000.\n"
          ]
        },
        {
          "output_type": "execute_result",
          "data": {
            "text/plain": [
              "   fraud_bool  income  name_email_similarity  prev_address_months_count  \\\n",
              "0           1     0.9               0.166828                         -1   \n",
              "1           1     0.9               0.296286                         -1   \n",
              "2           1     0.9               0.044985                         -1   \n",
              "3           1     0.9               0.159511                         -1   \n",
              "4           1     0.9               0.596414                         -1   \n",
              "\n",
              "   current_address_months_count  customer_age  days_since_request  \\\n",
              "0                            88            50            0.020925   \n",
              "1                           144            50            0.005418   \n",
              "2                           132            40            3.108549   \n",
              "3                            22            50            0.019079   \n",
              "4                           218            50            0.004441   \n",
              "\n",
              "   intended_balcon_amount payment_type  zip_count_4w  ...  has_other_cards  \\\n",
              "0               -1.331345           AA           769  ...                0   \n",
              "1               -0.816224           AB           366  ...                0   \n",
              "2               -0.755728           AC           870  ...                0   \n",
              "3               -1.205124           AB           810  ...                1   \n",
              "4               -0.773276           AB           890  ...                0   \n",
              "\n",
              "   proposed_credit_limit  foreign_request    source  \\\n",
              "0                  500.0                0  INTERNET   \n",
              "1                 1500.0                0  INTERNET   \n",
              "2                  200.0                0  INTERNET   \n",
              "3                  200.0                0  INTERNET   \n",
              "4                 1500.0                0  INTERNET   \n",
              "\n",
              "   session_length_in_minutes  device_os  keep_alive_session  \\\n",
              "0                   3.888115    windows                   0   \n",
              "1                  31.798819    windows                   0   \n",
              "2                   4.728705      other                   0   \n",
              "3                   2.047904      linux                   0   \n",
              "4                   3.775225  macintosh                   1   \n",
              "\n",
              "   device_distinct_emails_8w device_fraud_count  month  \n",
              "0                          1                  0      7  \n",
              "1                          1                  0      7  \n",
              "2                          1                  0      7  \n",
              "3                          1                  0      7  \n",
              "4                          1                  0      7  \n",
              "\n",
              "[5 rows x 32 columns]"
            ],
            "text/html": [
              "\n",
              "  <div id=\"df-abfa8349-b8f8-41ed-808e-bf6c2e55d875\">\n",
              "    <div class=\"colab-df-container\">\n",
              "      <div>\n",
              "<style scoped>\n",
              "    .dataframe tbody tr th:only-of-type {\n",
              "        vertical-align: middle;\n",
              "    }\n",
              "\n",
              "    .dataframe tbody tr th {\n",
              "        vertical-align: top;\n",
              "    }\n",
              "\n",
              "    .dataframe thead th {\n",
              "        text-align: right;\n",
              "    }\n",
              "</style>\n",
              "<table border=\"1\" class=\"dataframe\">\n",
              "  <thead>\n",
              "    <tr style=\"text-align: right;\">\n",
              "      <th></th>\n",
              "      <th>fraud_bool</th>\n",
              "      <th>income</th>\n",
              "      <th>name_email_similarity</th>\n",
              "      <th>prev_address_months_count</th>\n",
              "      <th>current_address_months_count</th>\n",
              "      <th>customer_age</th>\n",
              "      <th>days_since_request</th>\n",
              "      <th>intended_balcon_amount</th>\n",
              "      <th>payment_type</th>\n",
              "      <th>zip_count_4w</th>\n",
              "      <th>...</th>\n",
              "      <th>has_other_cards</th>\n",
              "      <th>proposed_credit_limit</th>\n",
              "      <th>foreign_request</th>\n",
              "      <th>source</th>\n",
              "      <th>session_length_in_minutes</th>\n",
              "      <th>device_os</th>\n",
              "      <th>keep_alive_session</th>\n",
              "      <th>device_distinct_emails_8w</th>\n",
              "      <th>device_fraud_count</th>\n",
              "      <th>month</th>\n",
              "    </tr>\n",
              "  </thead>\n",
              "  <tbody>\n",
              "    <tr>\n",
              "      <th>0</th>\n",
              "      <td>1</td>\n",
              "      <td>0.9</td>\n",
              "      <td>0.166828</td>\n",
              "      <td>-1</td>\n",
              "      <td>88</td>\n",
              "      <td>50</td>\n",
              "      <td>0.020925</td>\n",
              "      <td>-1.331345</td>\n",
              "      <td>AA</td>\n",
              "      <td>769</td>\n",
              "      <td>...</td>\n",
              "      <td>0</td>\n",
              "      <td>500.0</td>\n",
              "      <td>0</td>\n",
              "      <td>INTERNET</td>\n",
              "      <td>3.888115</td>\n",
              "      <td>windows</td>\n",
              "      <td>0</td>\n",
              "      <td>1</td>\n",
              "      <td>0</td>\n",
              "      <td>7</td>\n",
              "    </tr>\n",
              "    <tr>\n",
              "      <th>1</th>\n",
              "      <td>1</td>\n",
              "      <td>0.9</td>\n",
              "      <td>0.296286</td>\n",
              "      <td>-1</td>\n",
              "      <td>144</td>\n",
              "      <td>50</td>\n",
              "      <td>0.005418</td>\n",
              "      <td>-0.816224</td>\n",
              "      <td>AB</td>\n",
              "      <td>366</td>\n",
              "      <td>...</td>\n",
              "      <td>0</td>\n",
              "      <td>1500.0</td>\n",
              "      <td>0</td>\n",
              "      <td>INTERNET</td>\n",
              "      <td>31.798819</td>\n",
              "      <td>windows</td>\n",
              "      <td>0</td>\n",
              "      <td>1</td>\n",
              "      <td>0</td>\n",
              "      <td>7</td>\n",
              "    </tr>\n",
              "    <tr>\n",
              "      <th>2</th>\n",
              "      <td>1</td>\n",
              "      <td>0.9</td>\n",
              "      <td>0.044985</td>\n",
              "      <td>-1</td>\n",
              "      <td>132</td>\n",
              "      <td>40</td>\n",
              "      <td>3.108549</td>\n",
              "      <td>-0.755728</td>\n",
              "      <td>AC</td>\n",
              "      <td>870</td>\n",
              "      <td>...</td>\n",
              "      <td>0</td>\n",
              "      <td>200.0</td>\n",
              "      <td>0</td>\n",
              "      <td>INTERNET</td>\n",
              "      <td>4.728705</td>\n",
              "      <td>other</td>\n",
              "      <td>0</td>\n",
              "      <td>1</td>\n",
              "      <td>0</td>\n",
              "      <td>7</td>\n",
              "    </tr>\n",
              "    <tr>\n",
              "      <th>3</th>\n",
              "      <td>1</td>\n",
              "      <td>0.9</td>\n",
              "      <td>0.159511</td>\n",
              "      <td>-1</td>\n",
              "      <td>22</td>\n",
              "      <td>50</td>\n",
              "      <td>0.019079</td>\n",
              "      <td>-1.205124</td>\n",
              "      <td>AB</td>\n",
              "      <td>810</td>\n",
              "      <td>...</td>\n",
              "      <td>1</td>\n",
              "      <td>200.0</td>\n",
              "      <td>0</td>\n",
              "      <td>INTERNET</td>\n",
              "      <td>2.047904</td>\n",
              "      <td>linux</td>\n",
              "      <td>0</td>\n",
              "      <td>1</td>\n",
              "      <td>0</td>\n",
              "      <td>7</td>\n",
              "    </tr>\n",
              "    <tr>\n",
              "      <th>4</th>\n",
              "      <td>1</td>\n",
              "      <td>0.9</td>\n",
              "      <td>0.596414</td>\n",
              "      <td>-1</td>\n",
              "      <td>218</td>\n",
              "      <td>50</td>\n",
              "      <td>0.004441</td>\n",
              "      <td>-0.773276</td>\n",
              "      <td>AB</td>\n",
              "      <td>890</td>\n",
              "      <td>...</td>\n",
              "      <td>0</td>\n",
              "      <td>1500.0</td>\n",
              "      <td>0</td>\n",
              "      <td>INTERNET</td>\n",
              "      <td>3.775225</td>\n",
              "      <td>macintosh</td>\n",
              "      <td>1</td>\n",
              "      <td>1</td>\n",
              "      <td>0</td>\n",
              "      <td>7</td>\n",
              "    </tr>\n",
              "  </tbody>\n",
              "</table>\n",
              "<p>5 rows × 32 columns</p>\n",
              "</div>\n",
              "      <button class=\"colab-df-convert\" onclick=\"convertToInteractive('df-abfa8349-b8f8-41ed-808e-bf6c2e55d875')\"\n",
              "              title=\"Convert this dataframe to an interactive table.\"\n",
              "              style=\"display:none;\">\n",
              "        \n",
              "  <svg xmlns=\"http://www.w3.org/2000/svg\" height=\"24px\"viewBox=\"0 0 24 24\"\n",
              "       width=\"24px\">\n",
              "    <path d=\"M0 0h24v24H0V0z\" fill=\"none\"/>\n",
              "    <path d=\"M18.56 5.44l.94 2.06.94-2.06 2.06-.94-2.06-.94-.94-2.06-.94 2.06-2.06.94zm-11 1L8.5 8.5l.94-2.06 2.06-.94-2.06-.94L8.5 2.5l-.94 2.06-2.06.94zm10 10l.94 2.06.94-2.06 2.06-.94-2.06-.94-.94-2.06-.94 2.06-2.06.94z\"/><path d=\"M17.41 7.96l-1.37-1.37c-.4-.4-.92-.59-1.43-.59-.52 0-1.04.2-1.43.59L10.3 9.45l-7.72 7.72c-.78.78-.78 2.05 0 2.83L4 21.41c.39.39.9.59 1.41.59.51 0 1.02-.2 1.41-.59l7.78-7.78 2.81-2.81c.8-.78.8-2.07 0-2.86zM5.41 20L4 18.59l7.72-7.72 1.47 1.35L5.41 20z\"/>\n",
              "  </svg>\n",
              "      </button>\n",
              "      \n",
              "  <style>\n",
              "    .colab-df-container {\n",
              "      display:flex;\n",
              "      flex-wrap:wrap;\n",
              "      gap: 12px;\n",
              "    }\n",
              "\n",
              "    .colab-df-convert {\n",
              "      background-color: #E8F0FE;\n",
              "      border: none;\n",
              "      border-radius: 50%;\n",
              "      cursor: pointer;\n",
              "      display: none;\n",
              "      fill: #1967D2;\n",
              "      height: 32px;\n",
              "      padding: 0 0 0 0;\n",
              "      width: 32px;\n",
              "    }\n",
              "\n",
              "    .colab-df-convert:hover {\n",
              "      background-color: #E2EBFA;\n",
              "      box-shadow: 0px 1px 2px rgba(60, 64, 67, 0.3), 0px 1px 3px 1px rgba(60, 64, 67, 0.15);\n",
              "      fill: #174EA6;\n",
              "    }\n",
              "\n",
              "    [theme=dark] .colab-df-convert {\n",
              "      background-color: #3B4455;\n",
              "      fill: #D2E3FC;\n",
              "    }\n",
              "\n",
              "    [theme=dark] .colab-df-convert:hover {\n",
              "      background-color: #434B5C;\n",
              "      box-shadow: 0px 1px 3px 1px rgba(0, 0, 0, 0.15);\n",
              "      filter: drop-shadow(0px 1px 2px rgba(0, 0, 0, 0.3));\n",
              "      fill: #FFFFFF;\n",
              "    }\n",
              "  </style>\n",
              "\n",
              "      <script>\n",
              "        const buttonEl =\n",
              "          document.querySelector('#df-abfa8349-b8f8-41ed-808e-bf6c2e55d875 button.colab-df-convert');\n",
              "        buttonEl.style.display =\n",
              "          google.colab.kernel.accessAllowed ? 'block' : 'none';\n",
              "\n",
              "        async function convertToInteractive(key) {\n",
              "          const element = document.querySelector('#df-abfa8349-b8f8-41ed-808e-bf6c2e55d875');\n",
              "          const dataTable =\n",
              "            await google.colab.kernel.invokeFunction('convertToInteractive',\n",
              "                                                     [key], {});\n",
              "          if (!dataTable) return;\n",
              "\n",
              "          const docLinkHtml = 'Like what you see? Visit the ' +\n",
              "            '<a target=\"_blank\" href=https://colab.research.google.com/notebooks/data_table.ipynb>data table notebook</a>'\n",
              "            + ' to learn more about interactive tables.';\n",
              "          element.innerHTML = '';\n",
              "          dataTable['output_type'] = 'display_data';\n",
              "          await google.colab.output.renderOutput(dataTable, element);\n",
              "          const docLink = document.createElement('div');\n",
              "          docLink.innerHTML = docLinkHtml;\n",
              "          element.appendChild(docLink);\n",
              "        }\n",
              "      </script>\n",
              "    </div>\n",
              "  </div>\n",
              "  "
            ]
          },
          "metadata": {},
          "execution_count": 11
        }
      ]
    },
    {
      "cell_type": "code",
      "source": [
        "## Drop 'month' column as it is not a valid feature.\n",
        "data = data.drop(columns=['month'])\n",
        "data.head()"
      ],
      "metadata": {
        "colab": {
          "base_uri": "https://localhost:8080/",
          "height": 299
        },
        "id": "_egMqBAlxhJV",
        "outputId": "1e627dc4-58f3-45dd-95ff-0a14b5a0a82e"
      },
      "execution_count": null,
      "outputs": [
        {
          "output_type": "execute_result",
          "data": {
            "text/plain": [
              "   fraud_bool  income  name_email_similarity  prev_address_months_count  \\\n",
              "0           1     0.9               0.166828                         -1   \n",
              "1           1     0.9               0.296286                         -1   \n",
              "2           1     0.9               0.044985                         -1   \n",
              "3           1     0.9               0.159511                         -1   \n",
              "4           1     0.9               0.596414                         -1   \n",
              "\n",
              "   current_address_months_count  customer_age  days_since_request  \\\n",
              "0                            88            50            0.020925   \n",
              "1                           144            50            0.005418   \n",
              "2                           132            40            3.108549   \n",
              "3                            22            50            0.019079   \n",
              "4                           218            50            0.004441   \n",
              "\n",
              "   intended_balcon_amount payment_type  zip_count_4w  ...  bank_months_count  \\\n",
              "0               -1.331345           AA           769  ...                 24   \n",
              "1               -0.816224           AB           366  ...                 15   \n",
              "2               -0.755728           AC           870  ...                 -1   \n",
              "3               -1.205124           AB           810  ...                 31   \n",
              "4               -0.773276           AB           890  ...                 31   \n",
              "\n",
              "   has_other_cards  proposed_credit_limit  foreign_request    source  \\\n",
              "0                0                  500.0                0  INTERNET   \n",
              "1                0                 1500.0                0  INTERNET   \n",
              "2                0                  200.0                0  INTERNET   \n",
              "3                1                  200.0                0  INTERNET   \n",
              "4                0                 1500.0                0  INTERNET   \n",
              "\n",
              "  session_length_in_minutes  device_os  keep_alive_session  \\\n",
              "0                  3.888115    windows                   0   \n",
              "1                 31.798819    windows                   0   \n",
              "2                  4.728705      other                   0   \n",
              "3                  2.047904      linux                   0   \n",
              "4                  3.775225  macintosh                   1   \n",
              "\n",
              "  device_distinct_emails_8w  device_fraud_count  \n",
              "0                         1                   0  \n",
              "1                         1                   0  \n",
              "2                         1                   0  \n",
              "3                         1                   0  \n",
              "4                         1                   0  \n",
              "\n",
              "[5 rows x 31 columns]"
            ],
            "text/html": [
              "\n",
              "  <div id=\"df-ee2fb0f5-b825-4b18-8d76-70b11752c9d2\">\n",
              "    <div class=\"colab-df-container\">\n",
              "      <div>\n",
              "<style scoped>\n",
              "    .dataframe tbody tr th:only-of-type {\n",
              "        vertical-align: middle;\n",
              "    }\n",
              "\n",
              "    .dataframe tbody tr th {\n",
              "        vertical-align: top;\n",
              "    }\n",
              "\n",
              "    .dataframe thead th {\n",
              "        text-align: right;\n",
              "    }\n",
              "</style>\n",
              "<table border=\"1\" class=\"dataframe\">\n",
              "  <thead>\n",
              "    <tr style=\"text-align: right;\">\n",
              "      <th></th>\n",
              "      <th>fraud_bool</th>\n",
              "      <th>income</th>\n",
              "      <th>name_email_similarity</th>\n",
              "      <th>prev_address_months_count</th>\n",
              "      <th>current_address_months_count</th>\n",
              "      <th>customer_age</th>\n",
              "      <th>days_since_request</th>\n",
              "      <th>intended_balcon_amount</th>\n",
              "      <th>payment_type</th>\n",
              "      <th>zip_count_4w</th>\n",
              "      <th>...</th>\n",
              "      <th>bank_months_count</th>\n",
              "      <th>has_other_cards</th>\n",
              "      <th>proposed_credit_limit</th>\n",
              "      <th>foreign_request</th>\n",
              "      <th>source</th>\n",
              "      <th>session_length_in_minutes</th>\n",
              "      <th>device_os</th>\n",
              "      <th>keep_alive_session</th>\n",
              "      <th>device_distinct_emails_8w</th>\n",
              "      <th>device_fraud_count</th>\n",
              "    </tr>\n",
              "  </thead>\n",
              "  <tbody>\n",
              "    <tr>\n",
              "      <th>0</th>\n",
              "      <td>1</td>\n",
              "      <td>0.9</td>\n",
              "      <td>0.166828</td>\n",
              "      <td>-1</td>\n",
              "      <td>88</td>\n",
              "      <td>50</td>\n",
              "      <td>0.020925</td>\n",
              "      <td>-1.331345</td>\n",
              "      <td>AA</td>\n",
              "      <td>769</td>\n",
              "      <td>...</td>\n",
              "      <td>24</td>\n",
              "      <td>0</td>\n",
              "      <td>500.0</td>\n",
              "      <td>0</td>\n",
              "      <td>INTERNET</td>\n",
              "      <td>3.888115</td>\n",
              "      <td>windows</td>\n",
              "      <td>0</td>\n",
              "      <td>1</td>\n",
              "      <td>0</td>\n",
              "    </tr>\n",
              "    <tr>\n",
              "      <th>1</th>\n",
              "      <td>1</td>\n",
              "      <td>0.9</td>\n",
              "      <td>0.296286</td>\n",
              "      <td>-1</td>\n",
              "      <td>144</td>\n",
              "      <td>50</td>\n",
              "      <td>0.005418</td>\n",
              "      <td>-0.816224</td>\n",
              "      <td>AB</td>\n",
              "      <td>366</td>\n",
              "      <td>...</td>\n",
              "      <td>15</td>\n",
              "      <td>0</td>\n",
              "      <td>1500.0</td>\n",
              "      <td>0</td>\n",
              "      <td>INTERNET</td>\n",
              "      <td>31.798819</td>\n",
              "      <td>windows</td>\n",
              "      <td>0</td>\n",
              "      <td>1</td>\n",
              "      <td>0</td>\n",
              "    </tr>\n",
              "    <tr>\n",
              "      <th>2</th>\n",
              "      <td>1</td>\n",
              "      <td>0.9</td>\n",
              "      <td>0.044985</td>\n",
              "      <td>-1</td>\n",
              "      <td>132</td>\n",
              "      <td>40</td>\n",
              "      <td>3.108549</td>\n",
              "      <td>-0.755728</td>\n",
              "      <td>AC</td>\n",
              "      <td>870</td>\n",
              "      <td>...</td>\n",
              "      <td>-1</td>\n",
              "      <td>0</td>\n",
              "      <td>200.0</td>\n",
              "      <td>0</td>\n",
              "      <td>INTERNET</td>\n",
              "      <td>4.728705</td>\n",
              "      <td>other</td>\n",
              "      <td>0</td>\n",
              "      <td>1</td>\n",
              "      <td>0</td>\n",
              "    </tr>\n",
              "    <tr>\n",
              "      <th>3</th>\n",
              "      <td>1</td>\n",
              "      <td>0.9</td>\n",
              "      <td>0.159511</td>\n",
              "      <td>-1</td>\n",
              "      <td>22</td>\n",
              "      <td>50</td>\n",
              "      <td>0.019079</td>\n",
              "      <td>-1.205124</td>\n",
              "      <td>AB</td>\n",
              "      <td>810</td>\n",
              "      <td>...</td>\n",
              "      <td>31</td>\n",
              "      <td>1</td>\n",
              "      <td>200.0</td>\n",
              "      <td>0</td>\n",
              "      <td>INTERNET</td>\n",
              "      <td>2.047904</td>\n",
              "      <td>linux</td>\n",
              "      <td>0</td>\n",
              "      <td>1</td>\n",
              "      <td>0</td>\n",
              "    </tr>\n",
              "    <tr>\n",
              "      <th>4</th>\n",
              "      <td>1</td>\n",
              "      <td>0.9</td>\n",
              "      <td>0.596414</td>\n",
              "      <td>-1</td>\n",
              "      <td>218</td>\n",
              "      <td>50</td>\n",
              "      <td>0.004441</td>\n",
              "      <td>-0.773276</td>\n",
              "      <td>AB</td>\n",
              "      <td>890</td>\n",
              "      <td>...</td>\n",
              "      <td>31</td>\n",
              "      <td>0</td>\n",
              "      <td>1500.0</td>\n",
              "      <td>0</td>\n",
              "      <td>INTERNET</td>\n",
              "      <td>3.775225</td>\n",
              "      <td>macintosh</td>\n",
              "      <td>1</td>\n",
              "      <td>1</td>\n",
              "      <td>0</td>\n",
              "    </tr>\n",
              "  </tbody>\n",
              "</table>\n",
              "<p>5 rows × 31 columns</p>\n",
              "</div>\n",
              "      <button class=\"colab-df-convert\" onclick=\"convertToInteractive('df-ee2fb0f5-b825-4b18-8d76-70b11752c9d2')\"\n",
              "              title=\"Convert this dataframe to an interactive table.\"\n",
              "              style=\"display:none;\">\n",
              "        \n",
              "  <svg xmlns=\"http://www.w3.org/2000/svg\" height=\"24px\"viewBox=\"0 0 24 24\"\n",
              "       width=\"24px\">\n",
              "    <path d=\"M0 0h24v24H0V0z\" fill=\"none\"/>\n",
              "    <path d=\"M18.56 5.44l.94 2.06.94-2.06 2.06-.94-2.06-.94-.94-2.06-.94 2.06-2.06.94zm-11 1L8.5 8.5l.94-2.06 2.06-.94-2.06-.94L8.5 2.5l-.94 2.06-2.06.94zm10 10l.94 2.06.94-2.06 2.06-.94-2.06-.94-.94-2.06-.94 2.06-2.06.94z\"/><path d=\"M17.41 7.96l-1.37-1.37c-.4-.4-.92-.59-1.43-.59-.52 0-1.04.2-1.43.59L10.3 9.45l-7.72 7.72c-.78.78-.78 2.05 0 2.83L4 21.41c.39.39.9.59 1.41.59.51 0 1.02-.2 1.41-.59l7.78-7.78 2.81-2.81c.8-.78.8-2.07 0-2.86zM5.41 20L4 18.59l7.72-7.72 1.47 1.35L5.41 20z\"/>\n",
              "  </svg>\n",
              "      </button>\n",
              "      \n",
              "  <style>\n",
              "    .colab-df-container {\n",
              "      display:flex;\n",
              "      flex-wrap:wrap;\n",
              "      gap: 12px;\n",
              "    }\n",
              "\n",
              "    .colab-df-convert {\n",
              "      background-color: #E8F0FE;\n",
              "      border: none;\n",
              "      border-radius: 50%;\n",
              "      cursor: pointer;\n",
              "      display: none;\n",
              "      fill: #1967D2;\n",
              "      height: 32px;\n",
              "      padding: 0 0 0 0;\n",
              "      width: 32px;\n",
              "    }\n",
              "\n",
              "    .colab-df-convert:hover {\n",
              "      background-color: #E2EBFA;\n",
              "      box-shadow: 0px 1px 2px rgba(60, 64, 67, 0.3), 0px 1px 3px 1px rgba(60, 64, 67, 0.15);\n",
              "      fill: #174EA6;\n",
              "    }\n",
              "\n",
              "    [theme=dark] .colab-df-convert {\n",
              "      background-color: #3B4455;\n",
              "      fill: #D2E3FC;\n",
              "    }\n",
              "\n",
              "    [theme=dark] .colab-df-convert:hover {\n",
              "      background-color: #434B5C;\n",
              "      box-shadow: 0px 1px 3px 1px rgba(0, 0, 0, 0.15);\n",
              "      filter: drop-shadow(0px 1px 2px rgba(0, 0, 0, 0.3));\n",
              "      fill: #FFFFFF;\n",
              "    }\n",
              "  </style>\n",
              "\n",
              "      <script>\n",
              "        const buttonEl =\n",
              "          document.querySelector('#df-ee2fb0f5-b825-4b18-8d76-70b11752c9d2 button.colab-df-convert');\n",
              "        buttonEl.style.display =\n",
              "          google.colab.kernel.accessAllowed ? 'block' : 'none';\n",
              "\n",
              "        async function convertToInteractive(key) {\n",
              "          const element = document.querySelector('#df-ee2fb0f5-b825-4b18-8d76-70b11752c9d2');\n",
              "          const dataTable =\n",
              "            await google.colab.kernel.invokeFunction('convertToInteractive',\n",
              "                                                     [key], {});\n",
              "          if (!dataTable) return;\n",
              "\n",
              "          const docLinkHtml = 'Like what you see? Visit the ' +\n",
              "            '<a target=\"_blank\" href=https://colab.research.google.com/notebooks/data_table.ipynb>data table notebook</a>'\n",
              "            + ' to learn more about interactive tables.';\n",
              "          element.innerHTML = '';\n",
              "          dataTable['output_type'] = 'display_data';\n",
              "          await google.colab.output.renderOutput(dataTable, element);\n",
              "          const docLink = document.createElement('div');\n",
              "          docLink.innerHTML = docLinkHtml;\n",
              "          element.appendChild(docLink);\n",
              "        }\n",
              "      </script>\n",
              "    </div>\n",
              "  </div>\n",
              "  "
            ]
          },
          "metadata": {},
          "execution_count": 12
        }
      ]
    },
    {
      "cell_type": "code",
      "source": [
        "print('Number of missing values: ', data.isnull().sum().sum())"
      ],
      "metadata": {
        "colab": {
          "base_uri": "https://localhost:8080/"
        },
        "id": "78jevqYczXt6",
        "outputId": "e4519702-5ba8-4de1-a3f1-1cd38bbee4b1"
      },
      "execution_count": null,
      "outputs": [
        {
          "output_type": "stream",
          "name": "stdout",
          "text": [
            "Number of missing values:  0\n"
          ]
        }
      ]
    },
    {
      "cell_type": "code",
      "source": [
        "sns.countplot(x='fraud_bool', data=data)\n",
        "plt.title('Class counts of the entire dataset (0: No Fraud, 1: Fraud)', fontsize=13)\n",
        "\n",
        "count_fraud, count_legit = data['fraud_bool'].value_counts()[1], data['fraud_bool'].value_counts()[0]\n",
        "pctg_fraud, pctg_legit = round(count_fraud/n, 4), round(count_legit/n, 4)\n",
        "\n",
        "print('Class 0 (no fraud)\\nCount: ', count_fraud)\n",
        "print('Percentage of dataset: ', round(pctg_fraud * 100,2), '%')\n",
        "\n",
        "print('\\nClass 1 (fraud)\\nCount: ', count_legit)\n",
        "print('Percentage of dataset: ', round(pctg_legit * 100,2), '%')"
      ],
      "metadata": {
        "colab": {
          "base_uri": "https://localhost:8080/",
          "height": 608
        },
        "id": "AX3PCPoazYpt",
        "outputId": "9405acaf-d364-4f5f-feca-dd7ce586ece8"
      },
      "execution_count": null,
      "outputs": [
        {
          "output_type": "stream",
          "name": "stdout",
          "text": [
            "Class 0 (no fraud)\n",
            "Count:  11029\n",
            "Percentage of dataset:  1.1 %\n",
            "\n",
            "Class 1 (fraud)\n",
            "Count:  988971\n",
            "Percentage of dataset:  98.9 %\n"
          ]
        },
        {
          "output_type": "display_data",
          "data": {
            "text/plain": [
              "<Figure size 640x480 with 1 Axes>"
            ],
            "image/png": "[encoded data removed]"
          },
          "metadata": {}
        }
      ]
    },
    {
      "cell_type": "markdown",
      "source": [
        "## Create a sample from the whole dataset\n",
        "\n",
        "This dataset is huge and largely imbalanced. We have drawn a smaller sample without replacement for the classifiers to run on. We have assigned weights to each entry according to its label's rareness, such that \"fraud\" as the rarer class has a larger probability to be included. The resulted sample is more balanced."
      ],
      "metadata": {
        "id": "PIYg8p03z00G"
      }
    },
    {
      "cell_type": "code",
      "source": [
        "# Set seed for reproducibility\n",
        "np.random.seed(841)\n",
        "\n",
        "# A vector of the probability of each sample being drawn\n",
        "probabilities = [pctg_legit/count_fraud if label == 1 else pctg_fraud/count_legit for label in data[\"fraud_bool\"]]\n",
        "sample = data.loc[np.random.choice(data.index, size=100000, replace= False, p=probabilities)]\n",
        "\n",
        "# plot the resulting sample's distribution\n",
        "sns.countplot(x='fraud_bool', data=sample)\n",
        "plt.title('Class counts of the sample (0: No Fraud, 1: Fraud)', fontsize=13)\n",
        "\n",
        "count_fraud_sample = sample['fraud_bool'].value_counts()[1]\n",
        "count_legit_sample = sample['fraud_bool'].value_counts()[0]\n",
        "pctg_fraud_sample = round(count_fraud_sample/n, 4) \n",
        "pctg_legit_sample = round(count_legit_sample/n, 4)\n",
        "\n",
        "print('Class 0 (no fraud)\\nCount: ', count_fraud_sample)\n",
        "print('Percentage of sample: ', round(pctg_fraud_sample * 100,2), '%')\n",
        "\n",
        "print('\\nClass 1 (fraud)\\nCount: ', count_legit_sample)\n",
        "print('Percentage of sample: ', round(pctg_legit_sample * 100,2), '%')"
      ],
      "metadata": {
        "colab": {
          "base_uri": "https://localhost:8080/",
          "height": 593
        },
        "id": "OUxnszM1z2Lz",
        "outputId": "f33cb0f5-be5c-445a-c4a0-7f2f7f4672f9"
      },
      "execution_count": null,
      "outputs": [
        {
          "output_type": "stream",
          "name": "stdout",
          "text": [
            "Class 0 (no fraud)\n",
            "Count:  11029\n",
            "Percentage of sample:  1.1 %\n",
            "\n",
            "Class 1 (fraud)\n",
            "Count:  88971\n",
            "Percentage of sample:  8.9 %\n"
          ]
        },
        {
          "output_type": "display_data",
          "data": {
            "text/plain": [
              "<Figure size 640x480 with 1 Axes>"
            ],
            "image/png": "[encoded data removed]"
          },
          "metadata": {}
        }
      ]
    },
    {
      "cell_type": "markdown",
      "source": [
        "## Data preprocessing"
      ],
      "metadata": {
        "id": "VICVSQqzz478"
      }
    },
    {
      "cell_type": "code",
      "source": [
        "###### View all categorical columns\n",
        "cat_cols = [col for col in sample.columns if sample[col].dtype == 'O']\n",
        "cat_cols"
      ],
      "metadata": {
        "colab": {
          "base_uri": "https://localhost:8080/"
        },
        "id": "_VdQPDW6z6oh",
        "outputId": "d96a11c0-e9b9-4fb8-af1e-dea85aef8784"
      },
      "execution_count": null,
      "outputs": [
        {
          "output_type": "execute_result",
          "data": {
            "text/plain": [
              "['payment_type', 'employment_status', 'housing_status', 'source', 'device_os']"
            ]
          },
          "metadata": {},
          "execution_count": 16
        }
      ]
    },
    {
      "cell_type": "code",
      "source": [
        "###### One-hot encode all categorical columns\n",
        "def one_hot_data(orig_data, features_to_encode):\n",
        "    res = orig_data\n",
        "    for f in features_to_encode:\n",
        "        dummies = pd.get_dummies(orig_data[[f]])\n",
        "        res = pd.concat([res, dummies], axis=1)\n",
        "        res = res.drop([f], axis=1)\n",
        "    return res\n",
        "\n",
        "sample_1hot = one_hot_data(sample, cat_cols)\n",
        "sample_1hot.shape # dimension after one-hot transformation"
      ],
      "metadata": {
        "colab": {
          "base_uri": "https://localhost:8080/"
        },
        "id": "1Hi_V11Mz7fb",
        "outputId": "986279b4-0499-4e4b-b811-78ba7fa5ea1b"
      },
      "execution_count": null,
      "outputs": [
        {
          "output_type": "execute_result",
          "data": {
            "text/plain": [
              "(100000, 52)"
            ]
          },
          "metadata": {},
          "execution_count": 17
        }
      ]
    },
    {
      "cell_type": "code",
      "source": [
        "# ###### Normalize data (numerical columns)\n",
        "# from sklearn.preprocessing import StandardScaler\n",
        "\n",
        "# num_cols = [col for col in sample.columns.drop('fraud_bool') if sample[col].dtype != 'O'] # numerical columns\n",
        "\n",
        "# std_scaler = StandardScaler()\n",
        "# sample_1hot[num_cols] = std_scaler.fit_transform(sample_1hot[num_cols])"
      ],
      "metadata": {
        "id": "KvGbv1mjz8kG"
      },
      "execution_count": null,
      "outputs": []
    },
    {
      "cell_type": "code",
      "source": [
        "###### Train-test split\n",
        "from sklearn.model_selection import StratifiedShuffleSplit\n",
        "\n",
        "k_fold = 5\n",
        "\n",
        "sss = StratifiedShuffleSplit(n_splits= k_fold, test_size= 0.15, random_state=0)\n",
        "X = sample_1hot[sample_1hot.columns.drop(\"fraud_bool\")]\n",
        "y = sample_1hot[\"fraud_bool\"]\n",
        "\n",
        "for train_index, test_index in sss.split(X, y):\n",
        "  X_train, X_test = X.iloc[train_index], X.iloc[test_index]\n",
        "  y_train, y_test = y.iloc[train_index], y.iloc[test_index]\n",
        "\n",
        "X_train = X_train.values\n",
        "X_test = X_test.values\n",
        "y_train = y_train.values\n",
        "y_test = y_test.values"
      ],
      "metadata": {
        "id": "LwImX42d1907"
      },
      "execution_count": null,
      "outputs": []
    },
    {
      "cell_type": "code",
      "source": [
        "# ####### Set up 5-fold cross-validation\n",
        "\n",
        "# k_fold = 5\n",
        "# X = sample_1hot[sample_1hot.columns.drop(\"fraud_bool\")].to_numpy()\n",
        "# y = sample_1hot[\"fraud_bool\"].to_numpy()\n",
        "\n",
        "# # Use \"StratifiedShuffleSplit\" so the class ratios are preserved in both train and test dataset\n",
        "# sss = StratifiedShuffleSplit(n_splits= k_fold, test_size= 0.15, random_state= 0)"
      ],
      "metadata": {
        "id": "RQnBbRpDz9SU"
      },
      "execution_count": null,
      "outputs": []
    },
    {
      "cell_type": "markdown",
      "source": [
        "## Training Pipeline"
      ],
      "metadata": {
        "id": "5yZYq8NJ0dI3"
      }
    },
    {
      "cell_type": "code",
      "source": [
        "import time\n",
        "\n",
        "from imblearn.over_sampling import SMOTE\n",
        "from imblearn.pipeline import Pipeline\n",
        "\n",
        "from sklearn.model_selection import StratifiedKFold, GridSearchCV, cross_val_score\n",
        "\n",
        "from sklearn.preprocessing import StandardScaler\n",
        "\n",
        "from sklearn.linear_model import LogisticRegression\n",
        "from sklearn.svm import SVC\n",
        "from sklearn.ensemble import RandomForestClassifier\n",
        "from xgboost import XGBClassifier\n",
        "\n",
        "from sklearn.utils import class_weight\n",
        "\n",
        "from sklearn.metrics import confusion_matrix, roc_auc_score, recall_score, precision_score, accuracy_score, f1_score, matthews_corrcoef, make_scorer, classification_report\n"
      ],
      "metadata": {
        "id": "iEx3WN5c0heF"
      },
      "execution_count": null,
      "outputs": []
    },
    {
      "cell_type": "code",
      "source": [
        "def convert_duration(duration):\n",
        "  \"\"\"\n",
        "  Helper function to convert a duration in seconds to hours, minutes, and seconds.\n",
        "\n",
        "  Args:\n",
        "    duration (int): The duration in seconds to be converted.\n",
        "\n",
        "  Returns:\n",
        "    Tuple[int, int, int]: A tuple containing the number of hours, minutes, and seconds\n",
        "      represented by the input duration. Each value is an integer.\n",
        "  \"\"\"  \n",
        "  hours, rem = divmod(duration, 3600)\n",
        "  minutes, seconds = divmod(rem, 60)\n",
        "  return int(hours), int(minutes), int(seconds)  \n",
        "\n",
        "def train_models(models, model_params, X_train, y_train, scaler, scorer, strategy='None'):\n",
        "  \"\"\"\n",
        "  Train machine learning models using grid search and cross-validation.\n",
        "\n",
        "  Args:\n",
        "    models (dict): A dictionary mapping model names to Scikit-Learn estimator objects.\n",
        "    model_params (dict): A dictionary mapping model names to dictionaries of hyperparameter values\n",
        "      to search over using grid search cross-validation.\n",
        "    X_train (array-like of shape (n_samples, n_features)): The training input samples.\n",
        "    y_train (array-like of shape (n_samples,)): The target values.\n",
        "    scaler (Scikit-Learn scaler object): A scaler object used to preprocess the input data.\n",
        "    scorer (Scikit-Learn scorer object): A scorer object used to evaluate model performance.\n",
        "    strategy (str, optional): An oversampling strategy to use with imbalanced data. Defaults to 'None'.\n",
        "\n",
        "  Returns:\n",
        "    Tuple[dict, dict, dict, dict]: A tuple containing dictionaries of trained models, best model parameters,\n",
        "      training times, and cross-validation scores for each model. Each dictionary maps model names to the\n",
        "      corresponding values.\n",
        "  \"\"\"\n",
        "  trained_models = {}\n",
        "  trained_model_params = {}\n",
        "  training_times = {}\n",
        "  cv_scores = {}\n",
        "\n",
        "  skfold = StratifiedKFold(n_splits=5, random_state=None, shuffle=True)\n",
        "\n",
        "  for model_name in models:\n",
        "    model_class = models[model_name].__class__\n",
        "    print(model_class.__name__)\n",
        "    print('\\nCross-validation with strategy: {}, for {}'.format(strategy, model_class.__name__))\n",
        "\n",
        "    tuning_params = model_params[model_name].copy()\n",
        "\n",
        "    ## Setup pipeline based on imbalanced learning strategy\n",
        "    if strategy == 'SMOTE':\n",
        "      print('Oversampling with SMOTE')\n",
        "      pipeline = Pipeline([('scaler',scaler), ('sampl',SMOTE(sampling_strategy='minority')), ('cf', model_class())]) \n",
        "    elif strategy == 'Cost':\n",
        "      print('Cost-sensitive')\n",
        "      if model_name == 'XGBoost':\n",
        "        # XGBClassifier has scale_pos_weight parameter instead of class_weight.\n",
        "        # For equivalent balanced weighting, we take weight as (Sum of No Fraud / Sum of Fraud)\n",
        "        xgb_weight = np.count_nonzero(y_train == 0) / np.count_nonzero(y_train == 1)\n",
        "        tuning_params['cf__scale_pos_weight'] = [xgb_weight]\n",
        "        pipeline = Pipeline([('scaler',scaler), ('cf', model_class())])\n",
        "      else:\n",
        "        #tuning_params['cf__class_weight'] = ['balanced']\n",
        "        pipeline = Pipeline([('scaler',scaler), ('cf', model_class(class_weight='balanced'))]) \n",
        "    elif strategy == 'None':\n",
        "      print('No subsampling')\n",
        "      pipeline = Pipeline([('scaler',scaler), ('cf', model_class())]) \n",
        "    else:\n",
        "      print('Invalid strategy')\n",
        "      return\n",
        "\n",
        "    ## Grid Search CV\n",
        "    grid_search_cv = GridSearchCV(pipeline, model_params[model_name], \\\n",
        "                                  n_jobs = 3, scoring=scorer, \\\n",
        "                                  cv = skfold, return_train_score=True, verbose=1)\n",
        "    \n",
        "    ## Start training\n",
        "    start_time = time.time()\n",
        "\n",
        "    grid_search_cv.fit(X_train, y_train)\n",
        "    cv_score = cross_val_score(grid_search_cv, X_train, y_train, scoring=scorer, cv=skfold)\n",
        "\n",
        "    train_time = time.time() - start_time\n",
        "    hours, minutes, seconds = convert_duration(train_time)\n",
        "    print('Training took {} hour(s) {} minute(s) {} second(s)\\n'.format(int(hours), int(minutes), int(seconds)))\n",
        "\n",
        "    ## Add model and results to output\n",
        "    trained_models[model_name] = grid_search_cv.best_estimator_\n",
        "    trained_model_params[model_name] = grid_search_cv.best_params_\n",
        "    training_times[model_name] = train_time\n",
        "    cv_scores[model_name] = cv_score\n",
        "\n",
        "    print(model_class.__name__)\n",
        "    print('')\n",
        "    print(\"Parameters: {}\".format(grid_search_cv.best_params_))\n",
        "    print(\"Score: {}\".format(grid_search_cv.best_score_))\n",
        "    print('---' * 45)\n",
        "\n",
        "  return trained_models, trained_model_params, training_times, cv_scores"
      ],
      "metadata": {
        "id": "79sDQgYn6FIk"
      },
      "execution_count": null,
      "outputs": []
    },
    {
      "cell_type": "markdown",
      "source": [
        "## Train Model(s)"
      ],
      "metadata": {
        "id": "lcfGf5EUFJOr"
      }
    },
    {
      "cell_type": "code",
      "source": [
        "###### Setup models, tuning parameters, scaler and scorer\n",
        "xgb_weight = np.count_nonzero(y_train == 0) / np.count_nonzero(y_train == 1)\n",
        "\n",
        "models = {\n",
        "    # 'LogReg': LogisticRegression(),\n",
        "    # 'SVC': SVC(),\n",
        "    # 'RF': RandomForestClassifier(), # RandomForest does not have a straightforward way of determining what values of alpha to consider - do pre-pruning instead\n",
        "    'XGBoost': XGBClassifier()\n",
        "}\n",
        "\n",
        "model_params = {\n",
        "    # 'LogReg': {'cf__penalty': ['l1', 'l2'], 'cf__solver': ['liblinear'], 'cf__C': [(10 ** n) for n in range(-4,4)]},\n",
        "    # 'SVC': {'cf__C': [(10 ** n) for n in range(-1,2)], 'cf__kernel': ['rbf', 'poly', 'linear']},\n",
        "    # 'RF': {'cf__n_estimators': [50, 75, 100], \n",
        "    #        'cf__max_depth': [None if n < 0 else n for n in range(-5,20,6)]}, \n",
        "    'XGBoost': {'cf__tree_method': [\"gpu_hist\"], # With GPU\n",
        "                'cf__scale_pos_weight': [xgb_weight], # for cost-sensitive\n",
        "                'cf__eta': [0.01, 0.1, 0.2],  \n",
        "                'cf__max_depth': list(range(3,10,3)), \n",
        "                'cf__min_child_weight': list(range(1,6,2)), \n",
        "                'cf__gamma': [n/10.0 for n in range(0,3)]}\n",
        "}\n",
        "\n",
        "std_scaler = StandardScaler()\n",
        "mcc_scorer = make_scorer(matthews_corrcoef)\n",
        "#f1_scorer = make_scorer(f1_score)"
      ],
      "metadata": {
        "id": "lYyBkKq07LYN"
      },
      "execution_count": null,
      "outputs": []
    },
    {
      "cell_type": "code",
      "source": [
        "###### Train and save model, or load pre-trained model\n",
        "import pickle\n",
        "\n",
        "file_prefix = 'cost_xgboost_'\n",
        "\n",
        "if loading_models:\n",
        "  trained_models = pickle.load(open('saved/{}trained_models.sav'.format(file_prefix), 'rb'))\n",
        "  params = pickle.load(open('saved/{}params.sav'.format(file_prefix), 'rb'))\n",
        "  training_times = pickle.load(open('saved/{}training_times.sav'.format(file_prefix), 'rb'))\n",
        "  scores = pickle.load(open('saved/{}scores.sav'.format(file_prefix), 'rb'))\n",
        "else:\n",
        "  trained_models, params, training_times, scores = train_models(models, \n",
        "                                                                model_params, \n",
        "                                                                X_train, \n",
        "                                                                y_train, \n",
        "                                                                scaler=std_scaler, \n",
        "                                                                scorer=mcc_scorer, \n",
        "                                                                strategy='Cost')\n",
        "  \n",
        "  pickle.dump(trained_models, open('saved/{}trained_models.sav'.format(file_prefix), 'wb'))\n",
        "  pickle.dump(params, open('saved/{}params.sav'.format(file_prefix), 'wb'))\n",
        "  pickle.dump(training_times, open('saved/{}training_times.sav'.format(file_prefix), 'wb'))\n",
        "  pickle.dump(scores, open('saved/{}scores.sav'.format(file_prefix), 'wb'))"
      ],
      "metadata": {
        "id": "_QTH8WnBCZkI",
        "colab": {
          "base_uri": "https://localhost:8080/"
        },
        "outputId": "9564b213-0eed-4c27-c832-325254a39565"
      },
      "execution_count": null,
      "outputs": [
        {
          "output_type": "stream",
          "name": "stdout",
          "text": [
            "XGBClassifier\n",
            "\n",
            "Cross-validation with strategy: Cost, for XGBClassifier\n",
            "Cost-sensitive\n",
            "Fitting 5 folds for each of 81 candidates, totalling 405 fits\n"
          ]
        },
        {
          "output_type": "stream",
          "name": "stderr",
          "text": [
            "/usr/local/lib/python3.9/dist-packages/joblib/externals/loky/process_executor.py:700: UserWarning: A worker stopped while some jobs were given to the executor. This can be caused by a too short worker timeout or by a memory leak.\n",
            "  warnings.warn(\n"
          ]
        },
        {
          "output_type": "stream",
          "name": "stdout",
          "text": [
            "Fitting 5 folds for each of 81 candidates, totalling 405 fits\n"
          ]
        },
        {
          "output_type": "stream",
          "name": "stderr",
          "text": [
            "/usr/local/lib/python3.9/dist-packages/joblib/externals/loky/process_executor.py:700: UserWarning: A worker stopped while some jobs were given to the executor. This can be caused by a too short worker timeout or by a memory leak.\n",
            "  warnings.warn(\n"
          ]
        },
        {
          "output_type": "stream",
          "name": "stdout",
          "text": [
            "Fitting 5 folds for each of 81 candidates, totalling 405 fits\n"
          ]
        },
        {
          "output_type": "stream",
          "name": "stderr",
          "text": [
            "/usr/local/lib/python3.9/dist-packages/joblib/externals/loky/process_executor.py:700: UserWarning: A worker stopped while some jobs were given to the executor. This can be caused by a too short worker timeout or by a memory leak.\n",
            "  warnings.warn(\n"
          ]
        },
        {
          "output_type": "stream",
          "name": "stdout",
          "text": [
            "Fitting 5 folds for each of 81 candidates, totalling 405 fits\n"
          ]
        },
        {
          "output_type": "stream",
          "name": "stderr",
          "text": [
            "/usr/local/lib/python3.9/dist-packages/joblib/externals/loky/process_executor.py:700: UserWarning: A worker stopped while some jobs were given to the executor. This can be caused by a too short worker timeout or by a memory leak.\n",
            "  warnings.warn(\n"
          ]
        },
        {
          "output_type": "stream",
          "name": "stdout",
          "text": [
            "Fitting 5 folds for each of 81 candidates, totalling 405 fits\n"
          ]
        },
        {
          "output_type": "stream",
          "name": "stderr",
          "text": [
            "/usr/local/lib/python3.9/dist-packages/joblib/externals/loky/process_executor.py:700: UserWarning: A worker stopped while some jobs were given to the executor. This can be caused by a too short worker timeout or by a memory leak.\n",
            "  warnings.warn(\n"
          ]
        },
        {
          "output_type": "stream",
          "name": "stdout",
          "text": [
            "Fitting 5 folds for each of 81 candidates, totalling 405 fits\n"
          ]
        },
        {
          "output_type": "stream",
          "name": "stderr",
          "text": [
            "/usr/local/lib/python3.9/dist-packages/joblib/externals/loky/process_executor.py:700: UserWarning: A worker stopped while some jobs were given to the executor. This can be caused by a too short worker timeout or by a memory leak.\n",
            "  warnings.warn(\n"
          ]
        },
        {
          "output_type": "stream",
          "name": "stdout",
          "text": [
            "Training took 0 hour(s) 35 minute(s) 7 second(s)\n",
            "\n",
            "XGBClassifier\n",
            "\n",
            "Parameters: {'cf__eta': 0.1, 'cf__gamma': 0.2, 'cf__max_depth': 9, 'cf__min_child_weight': 3, 'cf__scale_pos_weight': 8.066666666666666, 'cf__tree_method': 'gpu_hist'}\n",
            "Score: 0.4771211112094161\n",
            "---------------------------------------------------------------------------------------------------------------------------------------\n"
          ]
        }
      ]
    },
    {
      "cell_type": "code",
      "source": [
        "# For overnight running\n",
        "#!cp -r saved/ drive/MyDrive/STAT841/Code/"
      ],
      "metadata": {
        "id": "Pnq5Ulo39Ina"
      },
      "execution_count": null,
      "outputs": []
    },
    {
      "cell_type": "markdown",
      "source": [
        "## Model Testing"
      ],
      "metadata": {
        "id": "BG0QgA2_FuO7"
      }
    },
    {
      "cell_type": "code",
      "source": [
        "import os\n",
        "\n",
        "def print_results(metrics, index):\n",
        "  \"\"\"\n",
        "  Helper function to print the evaluation metrics for a binary classification model.\n",
        "\n",
        "  Args:\n",
        "    metrics (dict): A dictionary containing evaluation metrics for one or more binary classification models. The keys in the dictionary \n",
        "      should be 'accuracy', 'precision', 'recall', 'f1_score', 'roc_score', and 'mcc_score', and the values should\n",
        "      be lists of metric values for each model.\n",
        "    index (int): An integer indicating the index of the model for which to print the evaluation metrics.\n",
        "\n",
        "  Returns:\n",
        "    None\n",
        "  \"\"\"\n",
        "  print(\"accuracy: {}\".format(metrics['accuracy'][index]))\n",
        "  print(\"precision: {}\".format(metrics['precision'][index]))\n",
        "  print(\"recall: {}\".format(metrics['recall'][index]))\n",
        "  print(\"f1: {}\".format(metrics['f1_score'][index]))\n",
        "  print('ROC AUC: {}'.format(metrics['roc_score'][index]))\n",
        "  print('MCC: {}'.format(metrics['mcc_score'][index]))\n",
        "\n",
        "\n",
        "def test_models(trained_models, X_test, y_test, strategy=None, save_folder_path=None):\n",
        "  \"\"\"\n",
        "  Test trained models on test data and calculate evaluation metrics.\n",
        "\n",
        "  Args:\n",
        "    trained_models (dict): A dictionary of trained models.\n",
        "    X_test (array-like): Test features.\n",
        "    y_test (array-like): Test labels.\n",
        "    strategy (str, optional): The strategy used to train the models. Defaults to None.\n",
        "    save_folder_path (str, optional): Path to the folder where the confusion matrices will be saved. Defaults to None.\n",
        "\n",
        "  Returns:\n",
        "    dict: A dictionary with the evaluation metrics of each model.\n",
        "  \"\"\"\n",
        "  labels = ['No Fraud', 'Fraud']\n",
        "  all_results = {'strategy': [],\n",
        "                 'model': [], \n",
        "                 'accuracy': [], \n",
        "                 'precision': [], \n",
        "                 'recall': [],\n",
        "                 'f1_score': [],\n",
        "                 'mcc_score': [],\n",
        "                 'roc_score': [],\n",
        "                 }\n",
        "\n",
        "  # Prepare figure for confusion matrices\n",
        "  fig, ax = plt.subplots(len(trained_models), 1, figsize=(4,len(trained_models)*3), squeeze=False) \n",
        "  fig.tight_layout(pad=5.0)\n",
        "  index = 0\n",
        "\n",
        "  for model_name, model in trained_models.items():\n",
        "\n",
        "    model_class = model.named_steps['cf'].__class__.__name__\n",
        "    print('Test results for model: ', model_class)\n",
        "    print('')\n",
        "\n",
        "    model_prediction = model.predict(X_test)\n",
        "\n",
        "    print(classification_report(y_test, model_prediction, target_names=labels))\n",
        "\n",
        "    # If specific strategy used, include in results\n",
        "    if strategy:\n",
        "      all_results['strategy'].append(strategy)\n",
        "    else:\n",
        "      all_results['strategy'].append('NA')\n",
        "\n",
        "    # Collect results    \n",
        "    all_results['model'].append(model_class)\n",
        "    all_results['accuracy'].append(model.score(X_test, y_test))\n",
        "    all_results['precision'].append(precision_score(y_test, model_prediction))\n",
        "    all_results['recall'].append(recall_score(y_test, model_prediction))\n",
        "    all_results['f1_score'].append(f1_score(y_test, model_prediction))\n",
        "    all_results['mcc_score'].append(matthews_corrcoef(y_test, model_prediction))\n",
        "    all_results['roc_score'].append(roc_auc_score(y_test, model_prediction))\n",
        "\n",
        "    print_results(all_results, index)\n",
        "\n",
        "    if len(trained_models) > 1:\n",
        "      print('---' * 45)\n",
        "\n",
        "    # Confusion matrix\n",
        "    conf_mat = confusion_matrix(y_test, model_prediction)\n",
        "    sns.heatmap(conf_mat, ax=ax[index][0], annot=True, cmap=plt.cm.Reds, fmt='d')\n",
        "    if strategy:\n",
        "      ax[index, 0].set_title(\"{} {}\".format(strategy, model_class), fontsize=11)\n",
        "    else:\n",
        "      ax[index, 0].set_title(\"{}\".format(model_class), fontsize=11)\n",
        "    ax[index, 0].set_xticklabels(labels, fontsize=8, rotation=0)\n",
        "    ax[index, 0].set_yticklabels(labels, fontsize=8, rotation=360)\n",
        "    ax[index, 0].set_ylabel('Actual Class')\n",
        "    ax[index, 0].set_xlabel('Predicted Class')\n",
        "\n",
        "    index += 1\n",
        "\n",
        "  print('')\n",
        "  plt.show()\n",
        "\n",
        "  # Save confusion matrix if only one model provided\n",
        "  if save_folder_path:\n",
        "    filename = ''\n",
        "    if strategy:\n",
        "      filename = strategy.lower() + '_'\n",
        "    \n",
        "    if len(trained_models) == 1:\n",
        "      filename = filename + list(trained_models.keys())[0].lower() + '_'\n",
        "\n",
        "    filename = filename + 'conf_matrix.png'\n",
        "\n",
        "    fig.savefig(os.path.join(save_folder_path, filename), bbox_inches='tight')\n",
        "\n",
        "  return all_results\n",
        "\n"
      ],
      "metadata": {
        "id": "G6bXzGzVFv4c"
      },
      "execution_count": null,
      "outputs": []
    },
    {
      "cell_type": "code",
      "source": [
        "results = test_models(trained_models, X_test, y_test)"
      ],
      "metadata": {
        "id": "xefjf7b6Hy24",
        "colab": {
          "base_uri": "https://localhost:8080/",
          "height": 540
        },
        "outputId": "9ba75e33-459b-410b-a10c-51f007603f65"
      },
      "execution_count": null,
      "outputs": [
        {
          "output_type": "stream",
          "name": "stdout",
          "text": [
            "Test results for model:  XGBClassifier\n",
            "\n",
            "              precision    recall  f1-score   support\n",
            "\n",
            "    No Fraud       0.96      0.89      0.92     13346\n",
            "       Fraud       0.44      0.70      0.54      1654\n",
            "\n",
            "    accuracy                           0.87     15000\n",
            "   macro avg       0.70      0.79      0.73     15000\n",
            "weighted avg       0.90      0.87      0.88     15000\n",
            "\n",
            "accuracy: 0.8676666666666667\n",
            "precision: 0.4372392870686386\n",
            "recall: 0.6970979443772672\n",
            "f1: 0.5374038685621068\n",
            "ROC AUC: 0.7929517895121763\n",
            "MCC: 0.482117020868202\n",
            "\n"
          ]
        },
        {
          "output_type": "display_data",
          "data": {
            "text/plain": [
              "<Figure size 400x300 with 2 Axes>"
            ],
            "image/png": "[encoded data removed]"
          },
          "metadata": {}
        }
      ]
    },
    {
      "cell_type": "code",
      "source": [
        "results"
      ],
      "metadata": {
        "id": "yI7yIHMY6sWT",
        "colab": {
          "base_uri": "https://localhost:8080/"
        },
        "outputId": "d4d7b2f2-cd72-4dd1-97ab-9d65f2841956"
      },
      "execution_count": null,
      "outputs": [
        {
          "output_type": "execute_result",
          "data": {
            "text/plain": [
              "{'strategy': ['NA'],\n",
              " 'model': ['XGBClassifier'],\n",
              " 'accuracy': [0.8676666666666667],\n",
              " 'precision': [0.4372392870686386],\n",
              " 'recall': [0.6970979443772672],\n",
              " 'f1_score': [0.5374038685621068],\n",
              " 'mcc_score': [0.482117020868202],\n",
              " 'roc_score': [0.7929517895121763]}"
            ]
          },
          "metadata": {},
          "execution_count": 28
        }
      ]
    },
    {
      "cell_type": "code",
      "source": [
        "#params"
      ],
      "metadata": {
        "id": "aqqnNmkKvRpU"
      },
      "execution_count": null,
      "outputs": []
    },
    {
      "cell_type": "code",
      "source": [
        "#trained_models['RF'].named_steps['cf'].get_params()"
      ],
      "metadata": {
        "id": "G3gxNS9rac3_"
      },
      "execution_count": null,
      "outputs": []
    },
    {
      "cell_type": "markdown",
      "source": [
        "## Gathering Results"
      ],
      "metadata": {
        "id": "qyMl0ROWZYwa"
      }
    },
    {
      "cell_type": "code",
      "source": [
        "## Assumes one model per pickled file\n",
        "def prepare_results(save_folder_path, result_folder_path, strategies, model_names, X_test, y_test):\n",
        "  \"\"\"\n",
        "  Prepare the test results for each model trained with different strategies, save them to a CSV file \n",
        "    and return the corresponding Pandas DataFrame. \n",
        "\n",
        "  Args:\n",
        "    save_folder_path (str): Path to the folder where trained models, parameters, scores, and training times are saved.\n",
        "    result_folder_path (str): Path to the folder where the test results will be saved.\n",
        "    strategies (list): List of strategies used for training the models.\n",
        "    model_names (list): List of names of models to be tested.\n",
        "    X_test (array-like): Test set features.\n",
        "    y_test (array-like): Test set labels.\n",
        "\n",
        "  Returns:\n",
        "    all_results (DataFrame): DataFrame containing test results of each model trained with different strategies.\n",
        "\n",
        "  Raises:\n",
        "    FileNotFoundError: If the save_folder_path does not exist.            \n",
        "  \"\"\"\n",
        "  all_results = list()\n",
        "\n",
        "  for strategy in strategies:\n",
        "    print(\"\\nProcessing models trained with \\'{}\\' strategy.\".format(strategy))\n",
        "\n",
        "    for model_name in model_names:\n",
        "      print(\"\\n{}:\\n\".format(model_name))\n",
        "      model = pickle.load(open('{}/{}_{}_trained_models.sav'.format(save_folder_path, strategy.lower(), model_name.lower()), 'rb'))\n",
        "      params = pickle.load(open('{}/{}_{}_params.sav'.format(save_folder_path, strategy.lower(), model_name.lower()), 'rb'))\n",
        "      training_times = pickle.load(open('{}/{}_{}_training_times.sav'.format(save_folder_path, strategy.lower(), model_name.lower()), 'rb'))\n",
        "      scores = pickle.load(open('{}/{}_{}_scores.sav'.format(save_folder_path, strategy.lower(), model_name.lower()), 'rb'))\n",
        "      \n",
        "      ## Get test results\n",
        "      model_results = test_models(model, X_test, y_test, strategy, result_folder_path)\n",
        "\n",
        "      for key, val in model_results.items():\n",
        "        # Extract values from list\n",
        "        model_results[key] = val[0]\n",
        "\n",
        "      ## Add training_times, params and scores\n",
        "      model_results['training_time'] = training_times[model_name]\n",
        "      model_results['model_params'] = params[model_name]\n",
        "      model_results['cv_scores'] = scores[model_name]\n",
        "      print(scores[model_name])\n",
        "\n",
        "      all_results.append(model_results)\n",
        "\n",
        "    print('\\n' + '---' * 45)\n",
        "  \n",
        "  all_results = pd.DataFrame.from_records(all_results) \n",
        "  all_results.to_csv(os.path.join(result_folder_path, 'all_results.csv')) \n",
        "\n",
        "  return all_results"
      ],
      "metadata": {
        "id": "olyn-6z9ZemN"
      },
      "execution_count": null,
      "outputs": []
    },
    {
      "cell_type": "code",
      "source": [
        "##### Get all results\n",
        "\n",
        "save_folder_rel_path = 'saved'\n",
        "results_folder_rel_path = 'results'\n",
        "strategies = ['Base', 'SMOTE', 'Cost']\n",
        "model_names = ['LogReg', 'RF', 'XGBoost']\n",
        "\n",
        "results = prepare_results(save_folder_rel_path, \n",
        "                          results_folder_rel_path, \n",
        "                          strategies, \n",
        "                          model_names, \n",
        "                          X_test, \n",
        "                          y_test)"
      ],
      "metadata": {
        "id": "2gigwoBlmmDq",
        "colab": {
          "base_uri": "https://localhost:8080/",
          "height": 1000
        },
        "outputId": "b9cf4502-90a2-4d6b-a1d2-13185bf54d77"
      },
      "execution_count": null,
      "outputs": [
        {
          "output_type": "stream",
          "name": "stdout",
          "text": [
            "\n",
            "Processing models trained with 'Base' strategy.\n",
            "\n",
            "LogReg:\n",
            "\n",
            "Test results for model:  LogisticRegression\n",
            "\n",
            "              precision    recall  f1-score   support\n",
            "\n",
            "    No Fraud       0.92      0.98      0.95     13346\n",
            "       Fraud       0.65      0.32      0.43      1654\n",
            "\n",
            "    accuracy                           0.91     15000\n",
            "   macro avg       0.79      0.65      0.69     15000\n",
            "weighted avg       0.89      0.91      0.89     15000\n",
            "\n",
            "accuracy: 0.9062666666666667\n",
            "precision: 0.6519607843137255\n",
            "recall: 0.3216444981862152\n",
            "f1: 0.43076923076923074\n",
            "ROC AUC: 0.650182356990605\n",
            "MCC: 0.4148086305658591\n",
            "\n"
          ]
        },
        {
          "output_type": "display_data",
          "data": {
            "text/plain": [
              "<Figure size 400x300 with 2 Axes>"
            ],
            "image/png": "[encoded data removed]"
          },
          "metadata": {}
        },
        {
          "output_type": "stream",
          "name": "stdout",
          "text": [
            "[0.41832253 0.42707889 0.44205627 0.42984699 0.42915262]\n",
            "\n",
            "RF:\n",
            "\n",
            "Test results for model:  RandomForestClassifier\n",
            "\n",
            "              precision    recall  f1-score   support\n",
            "\n",
            "    No Fraud       0.92      0.99      0.95     13346\n",
            "       Fraud       0.72      0.27      0.39      1654\n",
            "\n",
            "    accuracy                           0.91     15000\n",
            "   macro avg       0.82      0.63      0.67     15000\n",
            "weighted avg       0.89      0.91      0.89     15000\n",
            "\n",
            "accuracy: 0.9078\n",
            "precision: 0.7203252032520325\n",
            "recall: 0.2678355501813785\n",
            "f1: 0.39048038783605116\n",
            "ROC AUC: 0.6274738967750891\n",
            "MCC: 0.40271896270047947\n",
            "\n"
          ]
        },
        {
          "output_type": "display_data",
          "data": {
            "text/plain": [
              "<Figure size 400x300 with 2 Axes>"
            ],
            "image/png": "[encoded data removed]"
          },
          "metadata": {}
        },
        {
          "output_type": "stream",
          "name": "stdout",
          "text": [
            "[0.39232531 0.40321367 0.41429885 0.40968577 0.38207211]\n",
            "\n",
            "XGBoost:\n",
            "\n",
            "Test results for model:  XGBClassifier\n",
            "\n",
            "              precision    recall  f1-score   support\n",
            "\n",
            "    No Fraud       0.93      0.98      0.95     13346\n",
            "       Fraud       0.70      0.37      0.49      1654\n",
            "\n",
            "    accuracy                           0.91     15000\n",
            "   macro avg       0.81      0.68      0.72     15000\n",
            "weighted avg       0.90      0.91      0.90     15000\n",
            "\n",
            "accuracy: 0.9133333333333333\n",
            "precision: 0.7006802721088435\n",
            "recall: 0.373639661426844\n",
            "f1: 0.48738170347003157\n",
            "ROC AUC: 0.676929226787152\n",
            "MCC: 0.47114220130825574\n",
            "\n"
          ]
        },
        {
          "output_type": "display_data",
          "data": {
            "text/plain": [
              "<Figure size 400x300 with 2 Axes>"
            ],
            "image/png": "[encoded data removed]"
          },
          "metadata": {}
        },
        {
          "output_type": "stream",
          "name": "stdout",
          "text": [
            "[0.47364072 0.46298461 0.4848551  0.47490325 0.46448186]\n",
            "\n",
            "---------------------------------------------------------------------------------------------------------------------------------------\n",
            "\n",
            "Processing models trained with 'SMOTE' strategy.\n",
            "\n",
            "LogReg:\n",
            "\n",
            "Test results for model:  LogisticRegression\n",
            "\n",
            "              precision    recall  f1-score   support\n",
            "\n",
            "    No Fraud       0.97      0.82      0.89     13346\n",
            "       Fraud       0.34      0.77      0.48      1654\n",
            "\n",
            "    accuracy                           0.81     15000\n",
            "   macro avg       0.65      0.80      0.68     15000\n",
            "weighted avg       0.90      0.81      0.84     15000\n",
            "\n",
            "accuracy: 0.8116666666666666\n",
            "precision: 0.3430715625837577\n",
            "recall: 0.7738814993954051\n",
            "f1: 0.47539461467038074\n",
            "ROC AUC: 0.7951154837004\n",
            "MCC: 0.42767118561133083\n",
            "\n"
          ]
        },
        {
          "output_type": "display_data",
          "data": {
            "text/plain": [
              "<Figure size 400x300 with 2 Axes>"
            ],
            "image/png": "[encoded data removed]"
          },
          "metadata": {}
        },
        {
          "output_type": "stream",
          "name": "stdout",
          "text": [
            "[0.42588286 0.43416801 0.4204781  0.42750929 0.42741532]\n",
            "\n",
            "RF:\n",
            "\n",
            "Test results for model:  RandomForestClassifier\n",
            "\n",
            "              precision    recall  f1-score   support\n",
            "\n",
            "    No Fraud       0.95      0.91      0.93     13346\n",
            "       Fraud       0.46      0.60      0.52      1654\n",
            "\n",
            "    accuracy                           0.88     15000\n",
            "   macro avg       0.71      0.76      0.73     15000\n",
            "weighted avg       0.90      0.88      0.89     15000\n",
            "\n",
            "accuracy: 0.8797333333333334\n",
            "precision: 0.4649859943977591\n",
            "recall: 0.6021765417170496\n",
            "f1: 0.5247629083245521\n",
            "ROC AUC: 0.758154058360398\n",
            "MCC: 0.4622275440256973\n",
            "\n"
          ]
        },
        {
          "output_type": "display_data",
          "data": {
            "text/plain": [
              "<Figure size 400x300 with 2 Axes>"
            ],
            "image/png": "[encoded data removed]"
          },
          "metadata": {}
        },
        {
          "output_type": "stream",
          "name": "stdout",
          "text": [
            "[0.47215543 0.45937085 0.45842488 0.44852038 0.46362896]\n",
            "\n",
            "XGBoost:\n",
            "\n",
            "Test results for model:  XGBClassifier\n",
            "\n",
            "              precision    recall  f1-score   support\n",
            "\n",
            "    No Fraud       0.94      0.96      0.95     13346\n",
            "       Fraud       0.58      0.49      0.53      1654\n",
            "\n",
            "    accuracy                           0.91     15000\n",
            "   macro avg       0.76      0.72      0.74     15000\n",
            "weighted avg       0.90      0.91      0.90     15000\n",
            "\n",
            "accuracy: 0.9054666666666666\n",
            "precision: 0.5847701149425287\n",
            "recall: 0.4921402660217654\n",
            "f1: 0.5344714379514117\n",
            "ROC AUC: 0.7244157047177613\n",
            "MCC: 0.4845178555302986\n",
            "\n"
          ]
        },
        {
          "output_type": "display_data",
          "data": {
            "text/plain": [
              "<Figure size 400x300 with 2 Axes>"
            ],
            "image/png": "[encoded data removed]"
          },
          "metadata": {}
        },
        {
          "output_type": "stream",
          "name": "stdout",
          "text": [
            "[0.48480965 0.50460123 0.47827477 0.48149215 0.49709507]\n",
            "\n",
            "---------------------------------------------------------------------------------------------------------------------------------------\n",
            "\n",
            "Processing models trained with 'Cost' strategy.\n",
            "\n",
            "LogReg:\n",
            "\n",
            "Test results for model:  LogisticRegression\n",
            "\n",
            "              precision    recall  f1-score   support\n",
            "\n",
            "    No Fraud       0.97      0.81      0.88     13346\n",
            "       Fraud       0.33      0.79      0.47      1654\n",
            "\n",
            "    accuracy                           0.80     15000\n",
            "   macro avg       0.65      0.80      0.68     15000\n",
            "weighted avg       0.90      0.80      0.83     15000\n",
            "\n",
            "accuracy: 0.8037333333333333\n",
            "precision: 0.3348694316436252\n",
            "recall: 0.7908101571946796\n",
            "f1: 0.4705035971223022\n",
            "ROC AUC: 0.7980725445047278\n",
            "MCC: 0.42548581230443133\n",
            "\n"
          ]
        },
        {
          "output_type": "display_data",
          "data": {
            "text/plain": [
              "<Figure size 400x300 with 2 Axes>"
            ],
            "image/png": "[encoded data removed]"
          },
          "metadata": {}
        },
        {
          "output_type": "stream",
          "name": "stdout",
          "text": [
            "[0.42165791 0.42112043 0.42433957 0.42832447 0.41835894]\n",
            "\n",
            "RF:\n",
            "\n",
            "Test results for model:  RandomForestClassifier\n",
            "\n",
            "              precision    recall  f1-score   support\n",
            "\n",
            "    No Fraud       0.95      0.91      0.93     13346\n",
            "       Fraud       0.46      0.62      0.52      1654\n",
            "\n",
            "    accuracy                           0.88     15000\n",
            "   macro avg       0.70      0.76      0.73     15000\n",
            "weighted avg       0.90      0.88      0.88     15000\n",
            "\n",
            "accuracy: 0.8768666666666667\n",
            "precision: 0.45674585387718514\n",
            "recall: 0.6160822249093107\n",
            "f1: 0.5245817245817246\n",
            "ROC AUC: 0.762634248974961\n",
            "MCC: 0.4623772309497245\n",
            "\n"
          ]
        },
        {
          "output_type": "display_data",
          "data": {
            "text/plain": [
              "<Figure size 400x300 with 2 Axes>"
            ],
            "image/png": "[encoded data removed]"
          },
          "metadata": {}
        },
        {
          "output_type": "stream",
          "name": "stdout",
          "text": [
            "[0.45641208 0.47465903 0.46296407 0.45225948 0.46541343]\n",
            "\n",
            "XGBoost:\n",
            "\n",
            "Test results for model:  XGBClassifier\n",
            "\n",
            "              precision    recall  f1-score   support\n",
            "\n",
            "    No Fraud       0.96      0.89      0.92     13346\n",
            "       Fraud       0.44      0.70      0.54      1654\n",
            "\n",
            "    accuracy                           0.87     15000\n",
            "   macro avg       0.70      0.79      0.73     15000\n",
            "weighted avg       0.90      0.87      0.88     15000\n",
            "\n",
            "accuracy: 0.8676666666666667\n",
            "precision: 0.4372392870686386\n",
            "recall: 0.6970979443772672\n",
            "f1: 0.5374038685621068\n",
            "ROC AUC: 0.7929517895121763\n",
            "MCC: 0.482117020868202\n",
            "\n"
          ]
        },
        {
          "output_type": "display_data",
          "data": {
            "text/plain": [
              "<Figure size 400x300 with 2 Axes>"
            ],
            "image/png": "[encoded data removed]"
          },
          "metadata": {}
        },
        {
          "output_type": "stream",
          "name": "stdout",
          "text": [
            "[0.4720808  0.47407429 0.47226726 0.47520983 0.47609236]\n",
            "\n",
            "---------------------------------------------------------------------------------------------------------------------------------------\n"
          ]
        }
      ]
    },
    {
      "cell_type": "code",
      "source": [
        "results"
      ],
      "metadata": {
        "id": "9x6By4mHvzRs",
        "colab": {
          "base_uri": "https://localhost:8080/",
          "height": 760
        },
        "outputId": "8ad2874e-95b3-4d98-acc8-53d3745a614b"
      },
      "execution_count": null,
      "outputs": [
        {
          "output_type": "execute_result",
          "data": {
            "text/plain": [
              "  strategy                   model  accuracy  precision    recall  f1_score  \\\n",
              "0     Base      LogisticRegression  0.906267   0.651961  0.321644  0.430769   \n",
              "1     Base  RandomForestClassifier  0.907800   0.720325  0.267836  0.390480   \n",
              "2     Base           XGBClassifier  0.913333   0.700680  0.373640  0.487382   \n",
              "3    SMOTE      LogisticRegression  0.811667   0.343072  0.773881  0.475395   \n",
              "4    SMOTE  RandomForestClassifier  0.879733   0.464986  0.602177  0.524763   \n",
              "5    SMOTE           XGBClassifier  0.905467   0.584770  0.492140  0.534471   \n",
              "6     Cost      LogisticRegression  0.803733   0.334869  0.790810  0.470504   \n",
              "7     Cost  RandomForestClassifier  0.876867   0.456746  0.616082  0.524582   \n",
              "8     Cost           XGBClassifier  0.867667   0.437239  0.697098  0.537404   \n",
              "\n",
              "   mcc_score  roc_score  training_time  \\\n",
              "0   0.414809   0.650182    1094.008490   \n",
              "1   0.402719   0.627474    3600.330006   \n",
              "2   0.471142   0.676929    1984.737359   \n",
              "3   0.427671   0.795115     974.110741   \n",
              "4   0.462228   0.758154    5434.984471   \n",
              "5   0.484518   0.724416    3706.837207   \n",
              "6   0.425486   0.798073    1625.598365   \n",
              "7   0.462377   0.762634    2654.962461   \n",
              "8   0.482117   0.792952    2107.981018   \n",
              "\n",
              "                                        model_params  \\\n",
              "0  {'cf__C': 10, 'cf__penalty': 'l1', 'cf__solver...   \n",
              "1    {'cf__max_depth': None, 'cf__n_estimators': 75}   \n",
              "2  {'cf__eta': 0.2, 'cf__gamma': 0.0, 'cf__max_de...   \n",
              "3  {'cf__C': 0.1, 'cf__penalty': 'l1', 'cf__solve...   \n",
              "4      {'cf__max_depth': 13, 'cf__n_estimators': 75}   \n",
              "5  {'cf__eta': 0.2, 'cf__gamma': 0.2, 'cf__max_de...   \n",
              "6  {'cf__C': 1, 'cf__penalty': 'l1', 'cf__solver'...   \n",
              "7     {'cf__max_depth': 13, 'cf__n_estimators': 100}   \n",
              "8  {'cf__eta': 0.1, 'cf__gamma': 0.2, 'cf__max_de...   \n",
              "\n",
              "                                           cv_scores  \n",
              "0  [0.418322533093146, 0.42707889027584234, 0.442...  \n",
              "1  [0.3923253113687627, 0.4032136678953761, 0.414...  \n",
              "2  [0.4736407164849909, 0.46298461049479595, 0.48...  \n",
              "3  [0.4258828626777957, 0.4341680062063177, 0.420...  \n",
              "4  [0.47215542518609255, 0.4593708528088051, 0.45...  \n",
              "5  [0.4848096511338287, 0.5046012328602169, 0.478...  \n",
              "6  [0.421657909560936, 0.42112042800147176, 0.424...  \n",
              "7  [0.4564120813703178, 0.4746590314105767, 0.462...  \n",
              "8  [0.47208079868353847, 0.4740742874748555, 0.47...  "
            ],
            "text/html": [
              "\n",
              "  <div id=\"df-450d4589-4ca9-4b2c-bcc4-b70ca3e7afbb\">\n",
              "    <div class=\"colab-df-container\">\n",
              "      <div>\n",
              "<style scoped>\n",
              "    .dataframe tbody tr th:only-of-type {\n",
              "        vertical-align: middle;\n",
              "    }\n",
              "\n",
              "    .dataframe tbody tr th {\n",
              "        vertical-align: top;\n",
              "    }\n",
              "\n",
              "    .dataframe thead th {\n",
              "        text-align: right;\n",
              "    }\n",
              "</style>\n",
              "<table border=\"1\" class=\"dataframe\">\n",
              "  <thead>\n",
              "    <tr style=\"text-align: right;\">\n",
              "      <th></th>\n",
              "      <th>strategy</th>\n",
              "      <th>model</th>\n",
              "      <th>accuracy</th>\n",
              "      <th>precision</th>\n",
              "      <th>recall</th>\n",
              "      <th>f1_score</th>\n",
              "      <th>mcc_score</th>\n",
              "      <th>roc_score</th>\n",
              "      <th>training_time</th>\n",
              "      <th>model_params</th>\n",
              "      <th>cv_scores</th>\n",
              "    </tr>\n",
              "  </thead>\n",
              "  <tbody>\n",
              "    <tr>\n",
              "      <th>0</th>\n",
              "      <td>Base</td>\n",
              "      <td>LogisticRegression</td>\n",
              "      <td>0.906267</td>\n",
              "      <td>0.651961</td>\n",
              "      <td>0.321644</td>\n",
              "      <td>0.430769</td>\n",
              "      <td>0.414809</td>\n",
              "      <td>0.650182</td>\n",
              "      <td>1094.008490</td>\n",
              "      <td>{'cf__C': 10, 'cf__penalty': 'l1', 'cf__solver...</td>\n",
              "      <td>[0.418322533093146, 0.42707889027584234, 0.442...</td>\n",
              "    </tr>\n",
              "    <tr>\n",
              "      <th>1</th>\n",
              "      <td>Base</td>\n",
              "      <td>RandomForestClassifier</td>\n",
              "      <td>0.907800</td>\n",
              "      <td>0.720325</td>\n",
              "      <td>0.267836</td>\n",
              "      <td>0.390480</td>\n",
              "      <td>0.402719</td>\n",
              "      <td>0.627474</td>\n",
              "      <td>3600.330006</td>\n",
              "      <td>{'cf__max_depth': None, 'cf__n_estimators': 75}</td>\n",
              "      <td>[0.3923253113687627, 0.4032136678953761, 0.414...</td>\n",
              "    </tr>\n",
              "    <tr>\n",
              "      <th>2</th>\n",
              "      <td>Base</td>\n",
              "      <td>XGBClassifier</td>\n",
              "      <td>0.913333</td>\n",
              "      <td>0.700680</td>\n",
              "      <td>0.373640</td>\n",
              "      <td>0.487382</td>\n",
              "      <td>0.471142</td>\n",
              "      <td>0.676929</td>\n",
              "      <td>1984.737359</td>\n",
              "      <td>{'cf__eta': 0.2, 'cf__gamma': 0.0, 'cf__max_de...</td>\n",
              "      <td>[0.4736407164849909, 0.46298461049479595, 0.48...</td>\n",
              "    </tr>\n",
              "    <tr>\n",
              "      <th>3</th>\n",
              "      <td>SMOTE</td>\n",
              "      <td>LogisticRegression</td>\n",
              "      <td>0.811667</td>\n",
              "      <td>0.343072</td>\n",
              "      <td>0.773881</td>\n",
              "      <td>0.475395</td>\n",
              "      <td>0.427671</td>\n",
              "      <td>0.795115</td>\n",
              "      <td>974.110741</td>\n",
              "      <td>{'cf__C': 0.1, 'cf__penalty': 'l1', 'cf__solve...</td>\n",
              "      <td>[0.4258828626777957, 0.4341680062063177, 0.420...</td>\n",
              "    </tr>\n",
              "    <tr>\n",
              "      <th>4</th>\n",
              "      <td>SMOTE</td>\n",
              "      <td>RandomForestClassifier</td>\n",
              "      <td>0.879733</td>\n",
              "      <td>0.464986</td>\n",
              "      <td>0.602177</td>\n",
              "      <td>0.524763</td>\n",
              "      <td>0.462228</td>\n",
              "      <td>0.758154</td>\n",
              "      <td>5434.984471</td>\n",
              "      <td>{'cf__max_depth': 13, 'cf__n_estimators': 75}</td>\n",
              "      <td>[0.47215542518609255, 0.4593708528088051, 0.45...</td>\n",
              "    </tr>\n",
              "    <tr>\n",
              "      <th>5</th>\n",
              "      <td>SMOTE</td>\n",
              "      <td>XGBClassifier</td>\n",
              "      <td>0.905467</td>\n",
              "      <td>0.584770</td>\n",
              "      <td>0.492140</td>\n",
              "      <td>0.534471</td>\n",
              "      <td>0.484518</td>\n",
              "      <td>0.724416</td>\n",
              "      <td>3706.837207</td>\n",
              "      <td>{'cf__eta': 0.2, 'cf__gamma': 0.2, 'cf__max_de...</td>\n",
              "      <td>[0.4848096511338287, 0.5046012328602169, 0.478...</td>\n",
              "    </tr>\n",
              "    <tr>\n",
              "      <th>6</th>\n",
              "      <td>Cost</td>\n",
              "      <td>LogisticRegression</td>\n",
              "      <td>0.803733</td>\n",
              "      <td>0.334869</td>\n",
              "      <td>0.790810</td>\n",
              "      <td>0.470504</td>\n",
              "      <td>0.425486</td>\n",
              "      <td>0.798073</td>\n",
              "      <td>1625.598365</td>\n",
              "      <td>{'cf__C': 1, 'cf__penalty': 'l1', 'cf__solver'...</td>\n",
              "      <td>[0.421657909560936, 0.42112042800147176, 0.424...</td>\n",
              "    </tr>\n",
              "    <tr>\n",
              "      <th>7</th>\n",
              "      <td>Cost</td>\n",
              "      <td>RandomForestClassifier</td>\n",
              "      <td>0.876867</td>\n",
              "      <td>0.456746</td>\n",
              "      <td>0.616082</td>\n",
              "      <td>0.524582</td>\n",
              "      <td>0.462377</td>\n",
              "      <td>0.762634</td>\n",
              "      <td>2654.962461</td>\n",
              "      <td>{'cf__max_depth': 13, 'cf__n_estimators': 100}</td>\n",
              "      <td>[0.4564120813703178, 0.4746590314105767, 0.462...</td>\n",
              "    </tr>\n",
              "    <tr>\n",
              "      <th>8</th>\n",
              "      <td>Cost</td>\n",
              "      <td>XGBClassifier</td>\n",
              "      <td>0.867667</td>\n",
              "      <td>0.437239</td>\n",
              "      <td>0.697098</td>\n",
              "      <td>0.537404</td>\n",
              "      <td>0.482117</td>\n",
              "      <td>0.792952</td>\n",
              "      <td>2107.981018</td>\n",
              "      <td>{'cf__eta': 0.1, 'cf__gamma': 0.2, 'cf__max_de...</td>\n",
              "      <td>[0.47208079868353847, 0.4740742874748555, 0.47...</td>\n",
              "    </tr>\n",
              "  </tbody>\n",
              "</table>\n",
              "</div>\n",
              "      <button class=\"colab-df-convert\" onclick=\"convertToInteractive('df-450d4589-4ca9-4b2c-bcc4-b70ca3e7afbb')\"\n",
              "              title=\"Convert this dataframe to an interactive table.\"\n",
              "              style=\"display:none;\">\n",
              "        \n",
              "  <svg xmlns=\"http://www.w3.org/2000/svg\" height=\"24px\"viewBox=\"0 0 24 24\"\n",
              "       width=\"24px\">\n",
              "    <path d=\"M0 0h24v24H0V0z\" fill=\"none\"/>\n",
              "    <path d=\"M18.56 5.44l.94 2.06.94-2.06 2.06-.94-2.06-.94-.94-2.06-.94 2.06-2.06.94zm-11 1L8.5 8.5l.94-2.06 2.06-.94-2.06-.94L8.5 2.5l-.94 2.06-2.06.94zm10 10l.94 2.06.94-2.06 2.06-.94-2.06-.94-.94-2.06-.94 2.06-2.06.94z\"/><path d=\"M17.41 7.96l-1.37-1.37c-.4-.4-.92-.59-1.43-.59-.52 0-1.04.2-1.43.59L10.3 9.45l-7.72 7.72c-.78.78-.78 2.05 0 2.83L4 21.41c.39.39.9.59 1.41.59.51 0 1.02-.2 1.41-.59l7.78-7.78 2.81-2.81c.8-.78.8-2.07 0-2.86zM5.41 20L4 18.59l7.72-7.72 1.47 1.35L5.41 20z\"/>\n",
              "  </svg>\n",
              "      </button>\n",
              "      \n",
              "  <style>\n",
              "    .colab-df-container {\n",
              "      display:flex;\n",
              "      flex-wrap:wrap;\n",
              "      gap: 12px;\n",
              "    }\n",
              "\n",
              "    .colab-df-convert {\n",
              "      background-color: #E8F0FE;\n",
              "      border: none;\n",
              "      border-radius: 50%;\n",
              "      cursor: pointer;\n",
              "      display: none;\n",
              "      fill: #1967D2;\n",
              "      height: 32px;\n",
              "      padding: 0 0 0 0;\n",
              "      width: 32px;\n",
              "    }\n",
              "\n",
              "    .colab-df-convert:hover {\n",
              "      background-color: #E2EBFA;\n",
              "      box-shadow: 0px 1px 2px rgba(60, 64, 67, 0.3), 0px 1px 3px 1px rgba(60, 64, 67, 0.15);\n",
              "      fill: #174EA6;\n",
              "    }\n",
              "\n",
              "    [theme=dark] .colab-df-convert {\n",
              "      background-color: #3B4455;\n",
              "      fill: #D2E3FC;\n",
              "    }\n",
              "\n",
              "    [theme=dark] .colab-df-convert:hover {\n",
              "      background-color: #434B5C;\n",
              "      box-shadow: 0px 1px 3px 1px rgba(0, 0, 0, 0.15);\n",
              "      filter: drop-shadow(0px 1px 2px rgba(0, 0, 0, 0.3));\n",
              "      fill: #FFFFFF;\n",
              "    }\n",
              "  </style>\n",
              "\n",
              "      <script>\n",
              "        const buttonEl =\n",
              "          document.querySelector('#df-450d4589-4ca9-4b2c-bcc4-b70ca3e7afbb button.colab-df-convert');\n",
              "        buttonEl.style.display =\n",
              "          google.colab.kernel.accessAllowed ? 'block' : 'none';\n",
              "\n",
              "        async function convertToInteractive(key) {\n",
              "          const element = document.querySelector('#df-450d4589-4ca9-4b2c-bcc4-b70ca3e7afbb');\n",
              "          const dataTable =\n",
              "            await google.colab.kernel.invokeFunction('convertToInteractive',\n",
              "                                                     [key], {});\n",
              "          if (!dataTable) return;\n",
              "\n",
              "          const docLinkHtml = 'Like what you see? Visit the ' +\n",
              "            '<a target=\"_blank\" href=https://colab.research.google.com/notebooks/data_table.ipynb>data table notebook</a>'\n",
              "            + ' to learn more about interactive tables.';\n",
              "          element.innerHTML = '';\n",
              "          dataTable['output_type'] = 'display_data';\n",
              "          await google.colab.output.renderOutput(dataTable, element);\n",
              "          const docLink = document.createElement('div');\n",
              "          docLink.innerHTML = docLinkHtml;\n",
              "          element.appendChild(docLink);\n",
              "        }\n",
              "      </script>\n",
              "    </div>\n",
              "  </div>\n",
              "  "
            ]
          },
          "metadata": {},
          "execution_count": 33
        }
      ]
    },
    {
      "cell_type": "code",
      "source": [
        "# Saving to drive\n",
        "#!cp -r results/ drive/MyDrive/STAT841/Code/"
      ],
      "metadata": {
        "id": "b1jNILwC9IMW"
      },
      "execution_count": null,
      "outputs": []
    }
  ]
}